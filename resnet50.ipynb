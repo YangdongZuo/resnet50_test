{
 "cells": [
  {
   "cell_type": "markdown",
   "metadata": {},
   "source": [
    "第二步：准备你的数据集\n",
    "确保你的图像数据被组织成适当的文件夹结构。通常，我们会有一个根文件夹，里面包含两个子文件夹：train 和 val（分别用于训练和验证）。每个子文件夹下应该包含代表类别的进一步子文件夹，每个类别文件夹里包含相应的图像文件。"
   ]
  },
  {
   "cell_type": "markdown",
   "metadata": {},
   "source": [
    "data/\n",
    "    train/\n",
    "        class1/\n",
    "            img1.jpg\n",
    "            img2.jpg\n",
    "            ...\n",
    "        class2/\n",
    "            img1.jpg\n",
    "            img2.jpg\n",
    "            ...\n",
    "    val/\n",
    "        class1/\n",
    "            img1.jpg\n",
    "            img2.jpg\n",
    "            ...\n",
    "        class2/\n",
    "            img1.jpg\n",
    "            img2.jpg\n",
    "            ...\n"
   ]
  },
  {
   "cell_type": "markdown",
   "metadata": {},
   "source": [
    "第三步：加载数据\n",
    "使用 PyTorch 的数据加载器和数据变换工具来准备你的数据。这包括规范化图像尺寸和颜色值，使其适合 ResNet50 模型。"
   ]
  },
  {
   "cell_type": "code",
   "execution_count": 1,
   "metadata": {},
   "outputs": [],
   "source": [
    "from torchvision import transforms, datasets\n",
    "import torch\n",
    "import os\n",
    "# 设置数据转换\n",
    "data_transforms = {\n",
    "    'train': transforms.Compose([\n",
    "        transforms.RandomResizedCrop(224),\n",
    "        transforms.RandomHorizontalFlip(),\n",
    "        transforms.ToTensor(),\n",
    "        transforms.Normalize([0.485, 0.456, 0.406], [0.229, 0.224, 0.225])\n",
    "    ]),\n",
    "    'val': transforms.Compose([\n",
    "        transforms.Resize(256),\n",
    "        transforms.CenterCrop(224),\n",
    "        transforms.ToTensor(),\n",
    "        transforms.Normalize([0.485, 0.456, 0.406], [0.229, 0.224, 0.225])\n",
    "    ]),\n",
    "}\n",
    "\n",
    "# 数据目录\n",
    "data_dir = r'F:\\AI\\resnet50\\data'\n",
    "\n",
    "# 加载数据集\n",
    "image_datasets = {x: datasets.ImageFolder(os.path.join(data_dir, x), data_transforms[x])\n",
    "                  for x in ['train', 'val']}\n",
    "dataloaders = {x: torch.utils.data.DataLoader(image_datasets[x], batch_size=4,\n",
    "                                              shuffle=True, num_workers=4)\n",
    "               for x in ['train', 'val']}\n"
   ]
  },
  {
   "cell_type": "markdown",
   "metadata": {},
   "source": [
    "第四步：修改并设置 ResNet50 模型\n",
    "加载预训练的 ResNet50 模型，并修改它的最后一层，以适应你的类别数量。"
   ]
  },
  {
   "cell_type": "code",
   "execution_count": 3,
   "metadata": {},
   "outputs": [],
   "source": [
    "from torchvision import models\n",
    "\n",
    "model = models.resnet50(pretrained=True)\n",
    "num_ftrs = model.fc.in_features\n",
    "model.fc = torch.nn.Linear(num_ftrs, len(image_datasets['train'].classes))\n"
   ]
  },
  {
   "cell_type": "markdown",
   "metadata": {},
   "source": [
    "第五步：配置训练过程\n",
    "设置优化器和损失函数，准备模型训练。"
   ]
  },
  {
   "cell_type": "code",
   "execution_count": 4,
   "metadata": {},
   "outputs": [],
   "source": [
    "criterion = torch.nn.CrossEntropyLoss()\n",
    "optimizer = torch.optim.SGD(model.parameters(), lr=0.001, momentum=0.9)\n"
   ]
  },
  {
   "cell_type": "markdown",
   "metadata": {},
   "source": [
    "第六步：训练模型\n",
    "编写代码来训练模型，记录训练和验证过程中的损失和准确率。"
   ]
  },
  {
   "cell_type": "code",
   "execution_count": 6,
   "metadata": {},
   "outputs": [
    {
     "name": "stdout",
     "output_type": "stream",
     "text": [
      "Epoch 0/24\n",
      "----------\n",
      "train Loss: 0.1861 Acc: 0.9258\n",
      "val Loss: 0.0031 Acc: 1.0000\n",
      "Epoch 1/24\n",
      "----------\n",
      "train Loss: 0.4201 Acc: 0.8477\n",
      "val Loss: 0.0000 Acc: 1.0000\n",
      "Epoch 2/24\n",
      "----------\n",
      "train Loss: 0.2063 Acc: 0.9297\n",
      "val Loss: 0.0000 Acc: 1.0000\n",
      "Epoch 3/24\n",
      "----------\n",
      "train Loss: 0.2345 Acc: 0.9297\n",
      "val Loss: 0.0001 Acc: 1.0000\n",
      "Epoch 4/24\n",
      "----------\n",
      "train Loss: 0.2841 Acc: 0.9297\n",
      "val Loss: 0.0000 Acc: 1.0000\n",
      "Epoch 5/24\n",
      "----------\n",
      "train Loss: 0.3153 Acc: 0.8945\n",
      "val Loss: 0.0000 Acc: 1.0000\n",
      "Epoch 6/24\n",
      "----------\n",
      "train Loss: 0.1638 Acc: 0.9297\n",
      "val Loss: 0.0003 Acc: 1.0000\n",
      "Epoch 7/24\n",
      "----------\n",
      "train Loss: 0.1462 Acc: 0.9492\n",
      "val Loss: 0.0001 Acc: 1.0000\n",
      "Epoch 8/24\n",
      "----------\n",
      "train Loss: 0.0133 Acc: 0.9961\n",
      "val Loss: 0.0010 Acc: 1.0000\n",
      "Epoch 9/24\n",
      "----------\n",
      "train Loss: 0.0586 Acc: 0.9844\n",
      "val Loss: 0.0000 Acc: 1.0000\n",
      "Epoch 10/24\n",
      "----------\n",
      "train Loss: 0.0596 Acc: 0.9805\n",
      "val Loss: 0.0001 Acc: 1.0000\n",
      "Epoch 11/24\n",
      "----------\n",
      "train Loss: 0.1896 Acc: 0.9453\n",
      "val Loss: 0.0000 Acc: 1.0000\n",
      "Epoch 12/24\n",
      "----------\n",
      "train Loss: 0.0774 Acc: 0.9766\n",
      "val Loss: 0.0000 Acc: 1.0000\n",
      "Epoch 13/24\n",
      "----------\n",
      "train Loss: 0.0402 Acc: 0.9844\n",
      "val Loss: 0.0000 Acc: 1.0000\n",
      "Epoch 14/24\n",
      "----------\n",
      "train Loss: 0.0296 Acc: 0.9883\n",
      "val Loss: 0.0000 Acc: 1.0000\n",
      "Epoch 15/24\n",
      "----------\n",
      "train Loss: 0.0252 Acc: 0.9883\n",
      "val Loss: 0.0000 Acc: 1.0000\n",
      "Epoch 16/24\n",
      "----------\n",
      "train Loss: 0.0279 Acc: 0.9844\n",
      "val Loss: 0.0001 Acc: 1.0000\n",
      "Epoch 17/24\n",
      "----------\n",
      "train Loss: 0.0229 Acc: 0.9922\n",
      "val Loss: 0.0000 Acc: 1.0000\n",
      "Epoch 18/24\n",
      "----------\n",
      "train Loss: 0.0177 Acc: 0.9961\n",
      "val Loss: 0.0000 Acc: 1.0000\n",
      "Epoch 19/24\n",
      "----------\n",
      "train Loss: 0.0295 Acc: 0.9922\n",
      "val Loss: 0.0000 Acc: 1.0000\n",
      "Epoch 20/24\n",
      "----------\n",
      "train Loss: 0.0207 Acc: 0.9961\n",
      "val Loss: 0.0000 Acc: 1.0000\n",
      "Epoch 21/24\n",
      "----------\n",
      "train Loss: 0.0087 Acc: 1.0000\n",
      "val Loss: 0.0000 Acc: 1.0000\n",
      "Epoch 22/24\n",
      "----------\n",
      "train Loss: 0.0067 Acc: 1.0000\n",
      "val Loss: 0.0000 Acc: 1.0000\n",
      "Epoch 23/24\n",
      "----------\n",
      "train Loss: 0.0058 Acc: 1.0000\n",
      "val Loss: 0.0001 Acc: 1.0000\n",
      "Epoch 24/24\n",
      "----------\n",
      "train Loss: 0.0101 Acc: 1.0000\n",
      "val Loss: 0.0000 Acc: 1.0000\n"
     ]
    }
   ],
   "source": [
    "def train_model(model, criterion, optimizer, num_epochs=25):\n",
    "    for epoch in range(num_epochs):\n",
    "        print(f'Epoch {epoch}/{num_epochs - 1}')\n",
    "        print('-' * 10)\n",
    "\n",
    "        for phase in ['train', 'val']:\n",
    "            if phase == 'train':\n",
    "                model.train()\n",
    "            else:\n",
    "                model.eval()\n",
    "\n",
    "            running_loss = 0.0\n",
    "            running_corrects = 0\n",
    "\n",
    "            for inputs, labels in dataloaders[phase]:\n",
    "                optimizer.zero_grad()\n",
    "\n",
    "                with torch.set_grad_enabled(phase == 'train'):\n",
    "                    outputs = model(inputs)\n",
    "                    _, preds = torch.max(outputs, 1)\n",
    "                    loss = criterion(outputs, labels)\n",
    "\n",
    "                    if phase == 'train':\n",
    "                        loss.backward()\n",
    "                        optimizer.step()\n",
    "\n",
    "                running_loss += loss.item() * inputs.size(0)\n",
    "                running_corrects += torch.sum(preds == labels.data)\n",
    "\n",
    "            epoch_loss = running_loss / len(image_datasets[phase])\n",
    "            epoch_acc = running_corrects.double() / len(image_datasets[phase])\n",
    "\n",
    "            print(f'{phase} Loss: {epoch_loss:.4f} Acc: {epoch_acc:.4f}')\n",
    "\n",
    "    return model\n",
    "\n",
    "# 调用训练函数\n",
    "model = train_model(model, criterion, optimizer, num_epochs=25)\n"
   ]
  },
  {
   "cell_type": "markdown",
   "metadata": {},
   "source": [
    "第七步：保存和评估模型\n",
    "在训练结束后，保存你的模型，并在新的数据上进行测试以评估其性能。"
   ]
  },
  {
   "cell_type": "code",
   "execution_count": 7,
   "metadata": {},
   "outputs": [],
   "source": [
    "torch.save(model.state_dict(), 'model_resnet50.pth')\n"
   ]
  }
 ],
 "metadata": {
  "kernelspec": {
   "display_name": "yolov5",
   "language": "python",
   "name": "python3"
  },
  "language_info": {
   "codemirror_mode": {
    "name": "ipython",
    "version": 3
   },
   "file_extension": ".py",
   "mimetype": "text/x-python",
   "name": "python",
   "nbconvert_exporter": "python",
   "pygments_lexer": "ipython3",
   "version": "3.9.13"
  }
 },
 "nbformat": 4,
 "nbformat_minor": 2
}
